{
 "cells": [
  {
   "cell_type": "markdown",
   "id": "9ceb9c5a-4299-4539-80eb-82d254b5ad13",
   "metadata": {},
   "source": [
    "# Get tickers for all member stocks"
   ]
  },
  {
   "cell_type": "code",
   "execution_count": null,
   "id": "885b5538-6cf6-48bf-96f0-081070585837",
   "metadata": {},
   "outputs": [],
   "source": [
    "SP500_tickers = pd.read_html(\"https://en.wikipedia.org/wiki/List_of_S%26P_500_companies\")[0]['Symbol'].tolist()\n",
    "tickers = ' '.join(SP500_tickers)"
   ]
  },
  {
   "cell_type": "markdown",
   "id": "67f4b173-c056-4f3d-b6f7-84bc245456e8",
   "metadata": {},
   "source": [
    "# Get data from yahoo finance library for all members"
   ]
  },
  {
   "cell_type": "code",
   "execution_count": null,
   "id": "14ff337f-82c9-47fa-9ff4-8ee9e2179167",
   "metadata": {},
   "outputs": [],
   "source": [
    "data = yf.download(tickers, period=\"1mo\", actions=False, interval=\"1d\").round(2)\n",
    "data.to_csv(\"prices3\")"
   ]
  },
  {
   "cell_type": "markdown",
   "id": "f2d1c635-f71e-47fe-b7c1-ede9daff1103",
   "metadata": {},
   "source": [
    "# Select only the Close prices columns"
   ]
  },
  {
   "cell_type": "code",
   "execution_count": null,
   "id": "39343756-0d8a-4d4a-8692-0ab4debe2382",
   "metadata": {},
   "outputs": [],
   "source": [
    "prices3 = pd.read_csv(\"prices3\")\n",
    "closePrices = prices3.iloc[:, 504:1005]\n",
    "closePrices.to_csv(\"closePrices\")"
   ]
  },
  {
   "cell_type": "markdown",
   "id": "06c0ebb4-2d9c-4e33-8601-8b22db8b1fa2",
   "metadata": {},
   "source": [
    "# Reformat first column"
   ]
  },
  {
   "cell_type": "code",
   "execution_count": null,
   "id": "7ed2912f-7b4c-466d-bbea-24dc06cba3fa",
   "metadata": {},
   "outputs": [],
   "source": [
    "dateCol = prices3.iloc[:, 0]\n",
    "closePrices = pd.read_csv(\"closePrices\")\n",
    "closePrices.iloc[:, 0] = dateCol\n",
    "closePrices.to_csv(\"closePrices\")"
   ]
  },
  {
   "cell_type": "markdown",
   "id": "0f6769d4-0aa3-422d-9a5d-847f57ccd7de",
   "metadata": {},
   "source": [
    "# Remove 1st and 3rd rows manually from the csv file\n",
    "# Calculate share price changes and calculate variance and covariances"
   ]
  },
  {
   "cell_type": "code",
   "execution_count": null,
   "id": "67044109-f6c8-41bb-8248-2b4761f36627",
   "metadata": {},
   "outputs": [],
   "source": [
    "closePrices = pd.read_csv(\"closePrices\")\n",
    "basePrices = closePrices.iloc[0]\n",
    "priceChanges = (closePrices.iloc[:, 2:] - basePrices).round(5)    # Calculate change in share price from 1st day\n",
    "priceChanges.to_csv(\"priceChanges\")\n",
    "priceChanges.var().to_csv(\"stockVariance\")\n",
    "priceChanges.cov().to_csv(\"stockCovariance\")"
   ]
  }
 ],
 "metadata": {
  "kernelspec": {
   "display_name": "Python 3 (ipykernel)",
   "language": "python",
   "name": "python3"
  },
  "language_info": {
   "codemirror_mode": {
    "name": "ipython",
    "version": 3
   },
   "file_extension": ".py",
   "mimetype": "text/x-python",
   "name": "python",
   "nbconvert_exporter": "python",
   "pygments_lexer": "ipython3",
   "version": "3.9.13"
  }
 },
 "nbformat": 4,
 "nbformat_minor": 5
}
